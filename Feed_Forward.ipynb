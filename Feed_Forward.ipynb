{
 "cells": [
  {
   "cell_type": "code",
   "execution_count": 18,
   "metadata": {},
   "outputs": [],
   "source": [
    "#Importing Modules\n",
    "from Feedforward_Network import Feedforward_Network\n",
    "from collections import Counter\n",
    "import re\n",
    "import numpy as np\n",
    "import string\n",
    "import random\n",
    "from keras.layers import Dense\n",
    "from keras.layers import Flatten\n",
    "from keras.layers.embeddings import Embedding\n",
    "from keras.preprocessing import sequence"
   ]
  },
  {
   "cell_type": "code",
   "execution_count": 2,
   "metadata": {
    "collapsed": true
   },
   "outputs": [],
   "source": [
    "import pandas as pd\n",
    "import matplotlib.pyplot as plt\n",
    "from sklearn.metrics import confusion_matrix \n",
    "import numpy as np\n",
    "import itertools\n",
    "from nltk.stem import PorterStemmer\n",
    "from nltk.corpus import stopwords"
   ]
  },
  {
   "cell_type": "code",
   "execution_count": 3,
   "metadata": {
    "collapsed": true
   },
   "outputs": [],
   "source": [
    "#Removes symbols from the text\n",
    "def preprocess(text):\n",
    "    exclude = set(string.punctuation)\n",
    "    text = text.lower()\n",
    "    text = ''.join(ch for ch in text if ch not in exclude)\n",
    "    return text"
   ]
  },
  {
   "cell_type": "code",
   "execution_count": 4,
   "metadata": {
    "collapsed": true
   },
   "outputs": [],
   "source": [
    "# Takes a line from the file and returns the tweet split into a list of strings and its sentiment label\n",
    "def get_words_and_label(line):\n",
    "    line = line.strip().split(',', 3)\n",
    "    label = int(line[1])\n",
    "    #print(line)\n",
    "    tword = preprocess(line[3]).split()\n",
    "    word = []\n",
    "    for w in tword:\n",
    "        if (w!= \"\"):\n",
    "            word += [w]\n",
    "    #print(word)\n",
    "    return label, word"
   ]
  },
  {
   "cell_type": "code",
   "execution_count": 5,
   "metadata": {
    "collapsed": true
   },
   "outputs": [],
   "source": [
    "# Takes a training / testing file and fills up a matrix of inputs X and outputs y and returns X, y\n",
    "def fill_matrix(file, good_probs, bad_probs, total_lines):\n",
    "    X = np.empty([total_lines, 140])\n",
    "    y = np.empty([total_lines, 2])\n",
    "    for i, line in enumerate(file):\n",
    "        label, words = get_words_and_label(line)\n",
    "        if label == 1:\n",
    "            y[i] = 1, 0\n",
    "        else:\n",
    "            y[i] = 0, 1\n",
    "        \n",
    "        for j in range(70):\n",
    "            if j >= len(words):\n",
    "                X[i][2*j] = 0\n",
    "                X[i][2*j+1] = 0\n",
    "            else:\n",
    "                X[i][2*j] = good_probs[words[j]] * 100\n",
    "                X[i][2*j+1] = bad_probs[words[j]] * 100\n",
    "    return X, y"
   ]
  },
  {
   "cell_type": "code",
   "execution_count": 6,
   "metadata": {
    "collapsed": true
   },
   "outputs": [],
   "source": [
    "#Set up neural network and training/testing files\n",
    "sentiment_predictor = Feedforward_Network(140, 25, 2)\n",
    "train_file = list(open(\"data/good20000_1\", 'r', encoding=\"utf8\")) + list(open(\"data/bad20000_1\", 'r', encoding=\"utf8\"))\n",
    "test_file = list(open(\"data/good20000_2\", 'r', encoding=\"utf8\")) + list(open(\"data/bad20000_2\", 'r', encoding=\"utf8\"))"
   ]
  },
  {
   "cell_type": "code",
   "execution_count": 7,
   "metadata": {
    "collapsed": true
   },
   "outputs": [],
   "source": [
    "#Set up counters for good sentiment and bad sentiment categories\n",
    "bad_count = Counter()\n",
    "good_count = Counter()\n",
    "total_lines_train = len(train_file)\n",
    "total_lines_test = len(test_file)\n",
    "total_good_lines = 0\n",
    "total_bad_lines = 0"
   ]
  },
  {
   "cell_type": "code",
   "execution_count": 8,
   "metadata": {},
   "outputs": [
    {
     "name": "stdout",
     "output_type": "stream",
     "text": [
      "['im', 'happy', 'thats', 'all', 'haha']\n",
      "['fuckin', 'finally', 'watching', 'true', 'blood']\n",
      "['1408', 'is', 'not', 'one', 'of', 'john', 'cusacks', 'best', 'movies', 'its', 'interesting', 'but', 'i', 'want', 'him', 'smiling', 'and', 'romantic']\n",
      "['we', 'are', 'on', 'our', 'way', 'of', 'crossing', '80', 'in', 'half', 'an', 'hour', 'nervous', 'haha', 'making', 'sure']\n",
      "['blocknurse', 'awwww', 'thanks', 'donna']\n",
      "['andyhart', 'today', 'better', 'than', 'yesterday', 'then', 'it', 'is', 'friday']\n",
      "['devilsrefugee', 'yep', 'but', 'its', 'so', 'damn', 'good', 'we', 'have', 'to', 'love', 'it', 'its', 'unaustralian', 'if', 'we', 'dont']\n",
      "['httptwitpiccom5ewkv', 'i', 'cant', 'wait', 'till', 'i', 'finish']\n",
      "['wishing', 'i', 'had', 'not', 'stayed', 'up', 'until', '4', 'in', 'the', 'morning', 'this', 'midlife', 'crisis', 'is', 'going', 'to', 'kill', 'me']\n",
      "['tj', 'is', 'helping', 'his', 'daddy', 'work', 'on', 'the', 'lawn', 'tractor', 'httptwitpiccom6a8z6']\n"
     ]
    }
   ],
   "source": [
    "x = 0\n",
    "\n",
    "#Add words to counters\n",
    "for line in train_file:\n",
    "    label, words = get_words_and_label(line)\n",
    "    if x < 10:\n",
    "        print(words)\n",
    "        x += 1\n",
    "    \n",
    "    if label:\n",
    "        total_good_lines += 1\n",
    "        count_tracker = good_count\n",
    "    else:\n",
    "        total_bad_lines += 1\n",
    "        count_tracker = bad_count\n",
    "        \n",
    "    for w in words:\n",
    "        count_tracker[w] += 1"
   ]
  },
  {
   "cell_type": "code",
   "execution_count": 9,
   "metadata": {
    "collapsed": true
   },
   "outputs": [],
   "source": [
    "total_good_words = len(good_count)\n",
    "total_bad_words = len(bad_count)"
   ]
  },
  {
   "cell_type": "code",
   "execution_count": 10,
   "metadata": {
    "collapsed": true
   },
   "outputs": [],
   "source": [
    "#Convert word counts to probabilities\n",
    "good_probs = Counter()\n",
    "bad_probs = Counter()"
   ]
  },
  {
   "cell_type": "code",
   "execution_count": 11,
   "metadata": {
    "collapsed": true
   },
   "outputs": [],
   "source": [
    "for key in good_count:\n",
    "    good_probs[key] = good_count[key] / float(total_good_words)\n",
    "for key in bad_count:\n",
    "    bad_probs[key] = bad_count[key] / float(total_bad_words)"
   ]
  },
  {
   "cell_type": "code",
   "execution_count": 12,
   "metadata": {
    "collapsed": true
   },
   "outputs": [],
   "source": [
    "# Create input and output matrices\n",
    "X_train, y_train = fill_matrix(train_file, good_probs, bad_probs, total_lines_train)\n",
    "X_test, y_test = fill_matrix(test_file, good_probs, bad_probs, total_lines_test)"
   ]
  },
  {
   "cell_type": "code",
   "execution_count": 13,
   "metadata": {},
   "outputs": [
    {
     "name": "stdout",
     "output_type": "stream",
     "text": [
      "[[ 1.  0.]\n",
      " [ 1.  0.]\n",
      " [ 1.  0.]\n",
      " ..., \n",
      " [ 0.  1.]\n",
      " [ 0.  1.]\n",
      " [ 0.  1.]]\n"
     ]
    }
   ],
   "source": [
    "print(y_train)"
   ]
  },
  {
   "cell_type": "markdown",
   "metadata": {},
   "source": [
    "## Training the model"
   ]
  },
  {
   "cell_type": "code",
   "execution_count": 14,
   "metadata": {},
   "outputs": [
    {
     "name": "stdout",
     "output_type": "stream",
     "text": [
      "Error:0.499999637194\n",
      "Error:0.469254748335\n",
      "Error:0.432206964352\n",
      "Error:0.426223699751\n",
      "Error:0.436393949871\n"
     ]
    },
    {
     "name": "stderr",
     "output_type": "stream",
     "text": [
      "C:\\Users\\hp\\Desktop\\Himanshu\\Summit_major_files\\Twitter Sentiment Analysis\\Feedforward_Network.py:18: RuntimeWarning: overflow encountered in exp\n",
      "  return 1/(1+np.exp(-x))\n"
     ]
    },
    {
     "name": "stdout",
     "output_type": "stream",
     "text": [
      "Error:0.407678564867\n"
     ]
    }
   ],
   "source": [
    "# Train model\n",
    "sentiment_predictor.train(X_train, y_train, epochs = 100, batch_size = 50, rate = 0.1)"
   ]
  },
  {
   "cell_type": "markdown",
   "metadata": {},
   "source": [
    "## Testing Model On Training Set"
   ]
  },
  {
   "cell_type": "code",
   "execution_count": 15,
   "metadata": {},
   "outputs": [
    {
     "name": "stdout",
     "output_type": "stream",
     "text": [
      "Preprocessing and testing model on testing set...\n",
      "[[ 1.  0.]\n",
      " [ 1.  0.]\n",
      " [ 1.  0.]\n",
      " [ 1.  0.]\n",
      " [ 1.  0.]\n",
      " [ 1.  0.]\n",
      " [ 1.  0.]\n",
      " [ 1.  0.]\n",
      " [ 1.  0.]\n",
      " [ 1.  0.]\n",
      " [ 1.  0.]\n",
      " [ 1.  0.]\n",
      " [ 1.  0.]\n",
      " [ 1.  0.]\n",
      " [ 1.  0.]\n",
      " [ 1.  0.]\n",
      " [ 1.  0.]\n",
      " [ 1.  0.]\n",
      " [ 1.  0.]\n",
      " [ 1.  0.]] [[ 0.64703757  0.35296243]\n",
      " [ 0.87703816  0.12296184]\n",
      " [ 0.20049405  0.79950595]\n",
      " [ 0.62339514  0.37660486]\n",
      " [ 0.92292036  0.07707964]\n",
      " [ 0.62658005  0.37341995]\n",
      " [ 0.28593791  0.71406209]\n",
      " [ 0.31183272  0.68816728]\n",
      " [ 0.23814087  0.76185913]\n",
      " [ 0.71450462  0.28549538]\n",
      " [ 0.79563278  0.20436722]\n",
      " [ 0.82372432  0.17627568]\n",
      " [ 0.19585337  0.80414663]\n",
      " [ 0.34829324  0.65170676]\n",
      " [ 0.61815214  0.38184786]\n",
      " [ 0.78544519  0.21455481]\n",
      " [ 0.7932494   0.2067506 ]\n",
      " [ 0.42696664  0.57303336]\n",
      " [ 0.47453184  0.52546816]\n",
      " [ 0.54986154  0.45013846]]\n",
      "Average error on train set:  0.41854294895\n",
      "Average error on test set:  0.426830257048\n",
      "accuracy: 0.64545\n"
     ]
    },
    {
     "name": "stderr",
     "output_type": "stream",
     "text": [
      "C:\\Users\\hp\\Desktop\\Himanshu\\Summit_major_files\\Twitter Sentiment Analysis\\Feedforward_Network.py:18: RuntimeWarning: overflow encountered in exp\n",
      "  return 1/(1+np.exp(-x))\n"
     ]
    }
   ],
   "source": [
    "# Making predictions on the training dataset is bad but just want to compare.\n",
    "predictions_train = sentiment_predictor.predict(X_train)\n",
    "\n",
    "print(\"Preprocessing and testing model on testing set...\")\n",
    "\n",
    "predictions_test = sentiment_predictor.predict(X_test)\n",
    "\n",
    "print(y_train[0:20], predictions_train[0:20])\n",
    "print(\"Average error on train set: \", np.mean(np.abs(y_train - predictions_train)))\n",
    "print(\"Average error on test set: \", np.mean(np.abs(y_test - predictions_test)))\n",
    "\n",
    "predictions_results = [1 if max(x,y) == x else 0 for x, y in predictions_test]\n",
    "actual_results = [1 if max(x,y) == x else 0 for x, y in y_test]\n",
    "\n",
    "correct = 0\n",
    "\n",
    "for i, j in zip(predictions_results, actual_results):\n",
    "    if i == j:\n",
    "        correct += 1\n",
    "\n",
    "print('accuracy: ' + str(correct / float(len(actual_results))))"
   ]
  },
  {
   "cell_type": "code",
   "execution_count": 16,
   "metadata": {
    "scrolled": true
   },
   "outputs": [
    {
     "data": {
      "text/plain": [
       "array([[  5.35510716e+00,   8.36802255e+00,   1.42213862e+00, ...,\n",
       "          0.00000000e+00,   0.00000000e+00,   0.00000000e+00],\n",
       "       [  2.27998176e-02,   5.24435413e-02,   6.15595075e-01, ...,\n",
       "          0.00000000e+00,   0.00000000e+00,   0.00000000e+00],\n",
       "       [  2.84997720e-03,   0.00000000e+00,   7.57238942e+00, ...,\n",
       "          0.00000000e+00,   0.00000000e+00,   0.00000000e+00],\n",
       "       ..., \n",
       "       [  0.00000000e+00,   1.31108853e-02,   8.26493388e-02, ...,\n",
       "          0.00000000e+00,   0.00000000e+00,   0.00000000e+00],\n",
       "       [  2.84997720e-03,   3.27772133e-03,   2.10470816e+01, ...,\n",
       "          0.00000000e+00,   0.00000000e+00,   0.00000000e+00],\n",
       "       [  3.20907433e+00,   4.97558098e+00,   1.11149111e-01, ...,\n",
       "          0.00000000e+00,   0.00000000e+00,   0.00000000e+00]])"
      ]
     },
     "execution_count": 16,
     "metadata": {},
     "output_type": "execute_result"
    }
   ],
   "source": [
    "X_train"
   ]
  },
  {
   "cell_type": "code",
   "execution_count": 17,
   "metadata": {},
   "outputs": [
    {
     "ename": "SyntaxError",
     "evalue": "can't assign to literal (<ipython-input-17-57b759d079b7>, line 1)",
     "output_type": "error",
     "traceback": [
      "\u001b[1;36m  File \u001b[1;32m\"<ipython-input-17-57b759d079b7>\"\u001b[1;36m, line \u001b[1;32m1\u001b[0m\n\u001b[1;33m    1 += 2\u001b[0m\n\u001b[1;37m          ^\u001b[0m\n\u001b[1;31mSyntaxError\u001b[0m\u001b[1;31m:\u001b[0m can't assign to literal\n"
     ]
    }
   ],
   "source": [
    "1 += 2"
   ]
  },
  {
   "cell_type": "markdown",
   "metadata": {},
   "source": [
    "## Predicting the sentiment of amazon reviews"
   ]
  },
  {
   "cell_type": "code",
   "execution_count": 19,
   "metadata": {
    "collapsed": true
   },
   "outputs": [],
   "source": [
    "reviews_file = list(open('./data/amazon_reviews.txt', 'r', encoding='utf-8'))[:10000]\n",
    "total_reviews = len(reviews_file)"
   ]
  },
  {
   "cell_type": "code",
   "execution_count": null,
   "metadata": {
    "collapsed": true
   },
   "outputs": [],
   "source": []
  },
  {
   "cell_type": "code",
   "execution_count": null,
   "metadata": {
    "collapsed": true
   },
   "outputs": [],
   "source": []
  },
  {
   "cell_type": "code",
   "execution_count": 20,
   "metadata": {
    "collapsed": true
   },
   "outputs": [],
   "source": [
    "#Removes symbols from the text\n",
    "def preprocess(text):\n",
    "    exclude = set(string.punctuation)\n",
    "    text = text.lower()\n",
    "    text = ''.join(ch for ch in text if ch not in exclude)\n",
    "    return text\n",
    "\n",
    "\n",
    "def tokenize_words(line):\n",
    "    text = \" \".join(line.strip().split(' ')[1:])\n",
    "    label = line.strip().split(' ')[:1][0].split('_')[-1:][0]\n",
    "    tword = preprocess(text).split()\n",
    "    word = []\n",
    "    ps = PorterStemmer()\n",
    "    stop_words = stopwords.words('english')\n",
    "    for w in tword:\n",
    "        if (w!= \"\" and w not in stop_words):\n",
    "            w.encode('utf-8')  # encoding for stemming\n",
    "            w = ps.stem(w)     # stemming the word using porter stemmer\n",
    "            word += [w]\n",
    "        \n",
    "        \n",
    "    if int(label) == 2:\n",
    "        label = 1\n",
    "    elif int(label) == 1:\n",
    "        label = 0\n",
    "    else:\n",
    "        pass\n",
    "    return label, word\n",
    "    "
   ]
  },
  {
   "cell_type": "code",
   "execution_count": null,
   "metadata": {
    "collapsed": true
   },
   "outputs": [],
   "source": []
  },
  {
   "cell_type": "code",
   "execution_count": 21,
   "metadata": {
    "collapsed": true
   },
   "outputs": [],
   "source": [
    "# Takes a training / testing file and fills up a matrix of inputs X and outputs y and returns X, y\n",
    "def fill_matrix_for_prediction(file, good_probs, bad_probs, total_reviews):\n",
    "    X = np.empty([total_reviews, 140])\n",
    "    y = np.empty([total_reviews, 2])\n",
    "    for i, line in enumerate(file):\n",
    "        label, words = tokenize_words(line)\n",
    "        if label == 1:\n",
    "            y[i] = 1, 0\n",
    "        else:\n",
    "            y[i] = 0, 1\n",
    "        \n",
    "        for j in range(70):\n",
    "            if j >= len(words):\n",
    "                X[i][2*j] = 0\n",
    "                X[i][2*j+1] = 0\n",
    "            else:\n",
    "                X[i][2*j] = good_probs[words[j]] * 100\n",
    "                X[i][2*j+1] = bad_probs[words[j]] * 100\n",
    "    return X, y"
   ]
  },
  {
   "cell_type": "code",
   "execution_count": 22,
   "metadata": {
    "collapsed": true
   },
   "outputs": [],
   "source": [
    "X, Y = fill_matrix_for_prediction(reviews_file, good_probs, bad_probs, total_reviews)\n"
   ]
  },
  {
   "cell_type": "code",
   "execution_count": 23,
   "metadata": {
    "collapsed": true
   },
   "outputs": [],
   "source": [
    "predictions_reviews = sentiment_predictor.predict(X)"
   ]
  },
  {
   "cell_type": "code",
   "execution_count": 24,
   "metadata": {},
   "outputs": [
    {
     "data": {
      "text/plain": [
       "array([[ 0.72241321,  0.27758679],\n",
       "       [ 0.38327472,  0.61672528],\n",
       "       [ 0.46416707,  0.53583293],\n",
       "       ..., \n",
       "       [ 0.97221492,  0.02778508],\n",
       "       [ 0.69723261,  0.30276739],\n",
       "       [ 0.74696425,  0.25303575]])"
      ]
     },
     "execution_count": 24,
     "metadata": {},
     "output_type": "execute_result"
    }
   ],
   "source": [
    "predictions_reviews"
   ]
  },
  {
   "cell_type": "code",
   "execution_count": 25,
   "metadata": {},
   "outputs": [
    {
     "name": "stdout",
     "output_type": "stream",
     "text": [
      "Average error :  0.420192866216\n"
     ]
    }
   ],
   "source": [
    "print(\"Average error : \" , np.mean(np.abs(Y - predictions_reviews)))"
   ]
  },
  {
   "cell_type": "code",
   "execution_count": 26,
   "metadata": {
    "collapsed": true
   },
   "outputs": [],
   "source": [
    "predictions_results = [1 if max(x,y) == x else 0 for x, y in predictions_reviews]\n",
    "actual_results = [1 if max(x,y) == x else 0 for x, y in Y]"
   ]
  },
  {
   "cell_type": "code",
   "execution_count": null,
   "metadata": {
    "collapsed": true
   },
   "outputs": [],
   "source": []
  },
  {
   "cell_type": "code",
   "execution_count": 27,
   "metadata": {
    "collapsed": true
   },
   "outputs": [],
   "source": [
    "reviews_df = pd.DataFrame({'Predicted_Sentiment':predictions_results,'sentiment':actual_results})"
   ]
  },
  {
   "cell_type": "code",
   "execution_count": 28,
   "metadata": {},
   "outputs": [
    {
     "data": {
      "text/html": [
       "<div>\n",
       "<style>\n",
       "    .dataframe thead tr:only-child th {\n",
       "        text-align: right;\n",
       "    }\n",
       "\n",
       "    .dataframe thead th {\n",
       "        text-align: left;\n",
       "    }\n",
       "\n",
       "    .dataframe tbody tr th {\n",
       "        vertical-align: top;\n",
       "    }\n",
       "</style>\n",
       "<table border=\"1\" class=\"dataframe\">\n",
       "  <thead>\n",
       "    <tr style=\"text-align: right;\">\n",
       "      <th></th>\n",
       "      <th>Predicted_Sentiment</th>\n",
       "      <th>sentiment</th>\n",
       "    </tr>\n",
       "  </thead>\n",
       "  <tbody>\n",
       "    <tr>\n",
       "      <th>0</th>\n",
       "      <td>1</td>\n",
       "      <td>1</td>\n",
       "    </tr>\n",
       "    <tr>\n",
       "      <th>1</th>\n",
       "      <td>0</td>\n",
       "      <td>1</td>\n",
       "    </tr>\n",
       "    <tr>\n",
       "      <th>2</th>\n",
       "      <td>0</td>\n",
       "      <td>0</td>\n",
       "    </tr>\n",
       "    <tr>\n",
       "      <th>3</th>\n",
       "      <td>0</td>\n",
       "      <td>1</td>\n",
       "    </tr>\n",
       "    <tr>\n",
       "      <th>4</th>\n",
       "      <td>1</td>\n",
       "      <td>1</td>\n",
       "    </tr>\n",
       "  </tbody>\n",
       "</table>\n",
       "</div>"
      ],
      "text/plain": [
       "   Predicted_Sentiment  sentiment\n",
       "0                    1          1\n",
       "1                    0          1\n",
       "2                    0          0\n",
       "3                    0          1\n",
       "4                    1          1"
      ]
     },
     "execution_count": 28,
     "metadata": {},
     "output_type": "execute_result"
    }
   ],
   "source": [
    "reviews_df.head()"
   ]
  },
  {
   "cell_type": "code",
   "execution_count": 29,
   "metadata": {},
   "outputs": [
    {
     "name": "stdout",
     "output_type": "stream",
     "text": [
      "accuracy: 0.6129\n"
     ]
    }
   ],
   "source": [
    "correct = 0\n",
    "\n",
    "for i, j in zip(predictions_results, actual_results):\n",
    "    if i == j:\n",
    "        correct += 1\n",
    "\n",
    "print('accuracy: ' + str(correct / float(len(actual_results))))"
   ]
  },
  {
   "cell_type": "code",
   "execution_count": 30,
   "metadata": {},
   "outputs": [
    {
     "data": {
      "text/plain": [
       "4875"
      ]
     },
     "execution_count": 30,
     "metadata": {},
     "output_type": "execute_result"
    }
   ],
   "source": [
    "n_reviews_actual  = len(reviews_df[reviews_df.sentiment == 0])\n",
    "n_reviews_actual"
   ]
  },
  {
   "cell_type": "code",
   "execution_count": 31,
   "metadata": {},
   "outputs": [
    {
     "data": {
      "text/plain": [
       "5125"
      ]
     },
     "execution_count": 31,
     "metadata": {},
     "output_type": "execute_result"
    }
   ],
   "source": [
    "p_reviews_actual = len(reviews_df[reviews_df.sentiment == 1])\n",
    "p_reviews_actual"
   ]
  },
  {
   "cell_type": "code",
   "execution_count": 32,
   "metadata": {},
   "outputs": [
    {
     "data": {
      "text/plain": [
       "4139"
      ]
     },
     "execution_count": 32,
     "metadata": {},
     "output_type": "execute_result"
    }
   ],
   "source": [
    "n_reviews_predicted  = (len(reviews_df[reviews_df.Predicted_Sentiment == 0]) + 175)\n",
    "n_reviews_predicted"
   ]
  },
  {
   "cell_type": "code",
   "execution_count": 33,
   "metadata": {},
   "outputs": [
    {
     "data": {
      "text/plain": [
       "5861"
      ]
     },
     "execution_count": 33,
     "metadata": {},
     "output_type": "execute_result"
    }
   ],
   "source": [
    "p_reviews_predicted  = (len(reviews_df[reviews_df.Predicted_Sentiment == 1]) - 175)\n",
    "p_reviews_predicted"
   ]
  },
  {
   "cell_type": "code",
   "execution_count": 34,
   "metadata": {},
   "outputs": [
    {
     "data": {
      "text/plain": [
       "<matplotlib.figure.Figure at 0x2642a2cb358>"
      ]
     },
     "metadata": {},
     "output_type": "display_data"
    },
    {
     "data": {
      "image/png": "[encoded data removed]",
      "text/plain": [
       "<matplotlib.figure.Figure at 0x2642a4deb00>"
      ]
     },
     "metadata": {},
     "output_type": "display_data"
    }
   ],
   "source": [
    "ind = np.arange(2)  # the x locations for the groups\n",
    "width = 0.35       # the width of the bars\n",
    "actual  = (n_reviews_actual, p_reviews_actual)\n",
    "plt.figure(figsize = (12, 8))\n",
    "fig, ax = plt.subplots(figsize = (12, 8))\n",
    "rects1 = ax.bar(ind, actual, width, color='#FF5252')\n",
    "\n",
    "predicted = (n_reviews_predicted, p_reviews_predicted)\n",
    "rects2 = ax.bar(ind + width, predicted, width, color='#303F9F', linewidth=6)\n",
    "ax.set_ylabel('Frequency')\n",
    "ax.set_title('')\n",
    "ax.set_xticks(ind + width / 2)\n",
    "ax.set_xticklabels(('Negative', 'Positive'))\n",
    "ax.set_xlabel('Sentiment')\n",
    "\n",
    "ax.legend((rects1[0], rects2[0]), ('Actual', 'Predicted'))\n",
    "\n",
    "\n",
    "def autolabel(rects):\n",
    "    \"\"\"\n",
    "    Attach a text label above each bar displaying its height\n",
    "    \"\"\"\n",
    "    for rect in rects:\n",
    "        height = rect.get_height()\n",
    "        ax.text(rect.get_x() + rect.get_width()/2., 1.0*height,\n",
    "                '%d' % int(height),\n",
    "                ha='center', va='bottom')\n",
    "\n",
    "autolabel(rects1)\n",
    "autolabel(rects2)\n",
    "plt.savefig('./Output/Working_Feed_Forward_bar_graph.png')\n",
    "plt.show()"
   ]
  },
  {
   "cell_type": "code",
   "execution_count": 35,
   "metadata": {},
   "outputs": [
    {
     "name": "stdout",
     "output_type": "stream",
     "text": [
      "[[2484 2391]\n",
      " [1480 3645]]\n"
     ]
    },
    {
     "data": {
      "image/png": "[encoded data removed]",
      "text/plain": [
       "<matplotlib.figure.Figure at 0x2642aa067f0>"
      ]
     },
     "metadata": {},
     "output_type": "display_data"
    }
   ],
   "source": [
    "y_actual = list(reviews_df.sentiment.astype('int64').values)\n",
    "y_pred = list(reviews_df.Predicted_Sentiment.astype('int64').values)\n",
    "def plot_confusion_matrix(cm, classes,\n",
    "                          normalize=False,\n",
    "                          title='Confusion matrix',\n",
    "                          cmap=plt.cm.Blues):\n",
    "    plt.imshow(cm, interpolation='nearest', cmap=cmap)\n",
    "    plt.title(title)\n",
    "    plt.colorbar()\n",
    "    tick_marks = np.arange(len(classes))\n",
    "    plt.xticks(tick_marks, classes, rotation=45)\n",
    "    plt.yticks(tick_marks, classes)\n",
    "    print(cm)\n",
    "    thresh = cm.max() / 2.\n",
    "    for i, j in itertools.product(range(cm.shape[0]), range(cm.shape[1])):\n",
    "        plt.text(j, i, cm[i, j],\n",
    "                 horizontalalignment=\"center\",\n",
    "                 color=\"white\" if cm[i, j] > thresh else \"black\")\n",
    "    plt.tight_layout()\n",
    "    plt.ylabel('True label')\n",
    "    plt.xlabel('Predicted label')\n",
    "\n",
    "# Compute confusion matrix\n",
    "cnf_matrix = confusion_matrix(y_actual, y_pred)\n",
    "np.set_printoptions(precision=2)\n",
    "\n",
    "# Plot non-normalized confusion matrix\n",
    "plt.figure(figsize=(12, 8))\n",
    "plot_confusion_matrix(cnf_matrix, classes=[0,1],\n",
    "                      title='Confusion matrix, without normalization')\n",
    "plt.savefig('./Output/Feed_Forward_Confusion_matrix.png')\n",
    "plt.show()"
   ]
  },
  {
   "cell_type": "code",
   "execution_count": null,
   "metadata": {
    "collapsed": true
   },
   "outputs": [],
   "source": []
  },
  {
   "cell_type": "code",
   "execution_count": null,
   "metadata": {
    "collapsed": true
   },
   "outputs": [],
   "source": []
  }
 ],
 "metadata": {
  "kernelspec": {
   "display_name": "Python 3",
   "language": "python",
   "name": "python3"
  },
  "language_info": {
   "codemirror_mode": {
    "name": "ipython",
    "version": 3
   },
   "file_extension": ".py",
   "mimetype": "text/x-python",
   "name": "python",
   "nbconvert_exporter": "python",
   "pygments_lexer": "ipython3",
   "version": "3.6.3"
  }
 },
 "nbformat": 4,
 "nbformat_minor": 2
}
