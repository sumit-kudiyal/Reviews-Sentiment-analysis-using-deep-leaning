{
 "cells": [
  {
   "cell_type": "code",
   "execution_count": 53,
   "metadata": {},
   "outputs": [],
   "source": [
    "#Importing Modules\n",
    "from Feedforward_Network import Feedforward_Network\n",
    "from collections import Counter\n",
    "import re\n",
    "import numpy as np\n",
    "import string\n",
    "import random\n",
    "from keras.layers import Dense\n",
    "from keras.layers import Flatten\n",
    "from keras.layers.embeddings import Embedding\n",
    "from keras.preprocessing import sequence"
   ]
  },
  {
   "cell_type": "code",
   "execution_count": 81,
   "metadata": {
    "collapsed": true
   },
   "outputs": [],
   "source": [
    "import pandas as pd\n",
    "import matplotlib.pyplot as plt\n",
    "from sklearn.metrics import confusion_matrix \n",
    "import numpy as np\n",
    "import itertools\n",
    "from nltk.corpus import stopwords\n",
    "from nltk.stem import PorterStemmer"
   ]
  },
  {
   "cell_type": "code",
   "execution_count": 2,
   "metadata": {
    "collapsed": true
   },
   "outputs": [],
   "source": [
    "#Removes symbols from the text\n",
    "def preprocess(text):\n",
    "    exclude = set(string.punctuation)\n",
    "    text = text.lower()\n",
    "    text = ''.join(ch for ch in text if ch not in exclude)\n",
    "    return text"
   ]
  },
  {
   "cell_type": "code",
   "execution_count": 3,
   "metadata": {
    "collapsed": true
   },
   "outputs": [],
   "source": [
    "# Takes a line from the file and returns the tweet split into a list of strings and its sentiment label\n",
    "def get_words_and_label(line):\n",
    "    line = line.strip().split(',', 3)\n",
    "    label = int(line[1])\n",
    "    #print(line)\n",
    "    tword = preprocess(line[3]).split()\n",
    "    word = []\n",
    "    for w in tword:\n",
    "        if (w!= \"\"):\n",
    "            word += [w]\n",
    "    #print(word)\n",
    "    return label, word"
   ]
  },
  {
   "cell_type": "code",
   "execution_count": 4,
   "metadata": {
    "collapsed": true
   },
   "outputs": [],
   "source": [
    "# Takes a training / testing file and fills up a matrix of inputs X and outputs y and returns X, y\n",
    "def fill_matrix(file, good_probs, bad_probs, total_lines):\n",
    "    X = np.empty([total_lines, 140])\n",
    "    y = np.empty([total_lines, 2])\n",
    "    for i, line in enumerate(file):\n",
    "        label, words = get_words_and_label(line)\n",
    "        if label == 1:\n",
    "            y[i] = 1, 0\n",
    "        else:\n",
    "            y[i] = 0, 1\n",
    "        \n",
    "        for j in range(70):\n",
    "            if j >= len(words):\n",
    "                X[i][2*j] = 0\n",
    "                X[i][2*j+1] = 0\n",
    "            else:\n",
    "                X[i][2*j] = good_probs[words[j]] * 100\n",
    "                X[i][2*j+1] = bad_probs[words[j]] * 100\n",
    "    return X, y"
   ]
  },
  {
   "cell_type": "code",
   "execution_count": 5,
   "metadata": {
    "collapsed": true
   },
   "outputs": [],
   "source": [
    "#Set up neural network and training/testing files\n",
    "sentiment_predictor = Feedforward_Network(140, 25, 2)\n",
    "train_file = list(open(\"data/good20000_1\", 'r', encoding=\"utf8\")) + list(open(\"data/bad20000_1\", 'r', encoding=\"utf8\"))\n",
    "test_file = list(open(\"data/good20000_2\", 'r', encoding=\"utf8\")) + list(open(\"data/bad20000_2\", 'r', encoding=\"utf8\"))"
   ]
  },
  {
   "cell_type": "code",
   "execution_count": 6,
   "metadata": {
    "collapsed": true
   },
   "outputs": [],
   "source": [
    "#Set up counters for good sentiment and bad sentiment categories\n",
    "bad_count = Counter()\n",
    "good_count = Counter()\n",
    "total_lines_train = len(train_file)\n",
    "total_lines_test = len(test_file)\n",
    "total_good_lines = 0\n",
    "total_bad_lines = 0"
   ]
  },
  {
   "cell_type": "code",
   "execution_count": 7,
   "metadata": {},
   "outputs": [
    {
     "name": "stdout",
     "output_type": "stream",
     "text": [
      "['im', 'happy', 'thats', 'all', 'haha']\n",
      "['fuckin', 'finally', 'watching', 'true', 'blood']\n",
      "['1408', 'is', 'not', 'one', 'of', 'john', 'cusacks', 'best', 'movies', 'its', 'interesting', 'but', 'i', 'want', 'him', 'smiling', 'and', 'romantic']\n",
      "['we', 'are', 'on', 'our', 'way', 'of', 'crossing', '80', 'in', 'half', 'an', 'hour', 'nervous', 'haha', 'making', 'sure']\n",
      "['blocknurse', 'awwww', 'thanks', 'donna']\n",
      "['andyhart', 'today', 'better', 'than', 'yesterday', 'then', 'it', 'is', 'friday']\n",
      "['devilsrefugee', 'yep', 'but', 'its', 'so', 'damn', 'good', 'we', 'have', 'to', 'love', 'it', 'its', 'unaustralian', 'if', 'we', 'dont']\n",
      "['httptwitpiccom5ewkv', 'i', 'cant', 'wait', 'till', 'i', 'finish']\n",
      "['wishing', 'i', 'had', 'not', 'stayed', 'up', 'until', '4', 'in', 'the', 'morning', 'this', 'midlife', 'crisis', 'is', 'going', 'to', 'kill', 'me']\n",
      "['tj', 'is', 'helping', 'his', 'daddy', 'work', 'on', 'the', 'lawn', 'tractor', 'httptwitpiccom6a8z6']\n"
     ]
    }
   ],
   "source": [
    "x = 0\n",
    "\n",
    "#Add words to counters\n",
    "for line in train_file:\n",
    "    label, words = get_words_and_label(line)\n",
    "    if x < 10:\n",
    "        print(words)\n",
    "        x += 1\n",
    "    \n",
    "    if label:\n",
    "        total_good_lines += 1\n",
    "        count_tracker = good_count\n",
    "    else:\n",
    "        total_bad_lines += 1\n",
    "        count_tracker = bad_count\n",
    "        \n",
    "    for w in words:\n",
    "        count_tracker[w] += 1"
   ]
  },
  {
   "cell_type": "code",
   "execution_count": 8,
   "metadata": {
    "collapsed": true
   },
   "outputs": [],
   "source": [
    "total_good_words = len(good_count)\n",
    "total_bad_words = len(bad_count)"
   ]
  },
  {
   "cell_type": "code",
   "execution_count": 9,
   "metadata": {
    "collapsed": true
   },
   "outputs": [],
   "source": [
    "#Convert word counts to probabilities\n",
    "good_probs = Counter()\n",
    "bad_probs = Counter()"
   ]
  },
  {
   "cell_type": "code",
   "execution_count": 10,
   "metadata": {
    "collapsed": true
   },
   "outputs": [],
   "source": [
    "for key in good_count:\n",
    "    good_probs[key] = good_count[key] / float(total_good_words)\n",
    "for key in bad_count:\n",
    "    bad_probs[key] = bad_count[key] / float(total_bad_words)"
   ]
  },
  {
   "cell_type": "code",
   "execution_count": 11,
   "metadata": {
    "collapsed": true
   },
   "outputs": [],
   "source": [
    "# Create input and output matrices\n",
    "X_train, y_train = fill_matrix(train_file, good_probs, bad_probs, total_lines_train)\n",
    "X_test, y_test = fill_matrix(test_file, good_probs, bad_probs, total_lines_test)"
   ]
  },
  {
   "cell_type": "code",
   "execution_count": 12,
   "metadata": {},
   "outputs": [
    {
     "name": "stdout",
     "output_type": "stream",
     "text": [
      "[[ 1.  0.]\n",
      " [ 1.  0.]\n",
      " [ 1.  0.]\n",
      " ..., \n",
      " [ 0.  1.]\n",
      " [ 0.  1.]\n",
      " [ 0.  1.]]\n"
     ]
    }
   ],
   "source": [
    "print(y_train)"
   ]
  },
  {
   "cell_type": "markdown",
   "metadata": {},
   "source": [
    "## Training the model"
   ]
  },
  {
   "cell_type": "code",
   "execution_count": 13,
   "metadata": {},
   "outputs": [
    {
     "name": "stdout",
     "output_type": "stream",
     "text": [
      "Error:0.49999958286\n",
      "Error:0.398392787436\n",
      "Error:0.487824147776\n",
      "Error:0.449413080753\n",
      "Error:0.446905006225\n"
     ]
    },
    {
     "name": "stderr",
     "output_type": "stream",
     "text": [
      "C:\\Users\\hp\\Desktop\\Himanshu\\Summit_major_files\\Twitter Sentiment Analysis\\Feedforward_Network.py:18: RuntimeWarning: overflow encountered in exp\n",
      "  return 1/(1+np.exp(-x))\n"
     ]
    },
    {
     "name": "stdout",
     "output_type": "stream",
     "text": [
      "Error:0.412070232754\n"
     ]
    }
   ],
   "source": [
    "# Train model\n",
    "sentiment_predictor.train(X_train, y_train, epochs = 100, batch_size = 50, rate = 0.1)"
   ]
  },
  {
   "cell_type": "markdown",
   "metadata": {},
   "source": [
    "## Testing Model On Training Set"
   ]
  },
  {
   "cell_type": "code",
   "execution_count": 15,
   "metadata": {},
   "outputs": [
    {
     "name": "stderr",
     "output_type": "stream",
     "text": [
      "C:\\Users\\hp\\Desktop\\Himanshu\\Summit_major_files\\Twitter Sentiment Analysis\\Feedforward_Network.py:18: RuntimeWarning: overflow encountered in exp\n",
      "  return 1/(1+np.exp(-x))\n"
     ]
    },
    {
     "name": "stdout",
     "output_type": "stream",
     "text": [
      "Preprocessing and testing model on testing set...\n",
      "[[ 1.  0.]\n",
      " [ 1.  0.]\n",
      " [ 1.  0.]\n",
      " [ 1.  0.]\n",
      " [ 1.  0.]\n",
      " [ 1.  0.]\n",
      " [ 1.  0.]\n",
      " [ 1.  0.]\n",
      " [ 1.  0.]\n",
      " [ 1.  0.]\n",
      " [ 1.  0.]\n",
      " [ 1.  0.]\n",
      " [ 1.  0.]\n",
      " [ 1.  0.]\n",
      " [ 1.  0.]\n",
      " [ 1.  0.]\n",
      " [ 1.  0.]\n",
      " [ 1.  0.]\n",
      " [ 1.  0.]\n",
      " [ 1.  0.]] [[ 0.58848735  0.41151265]\n",
      " [ 0.85141822  0.14858178]\n",
      " [ 0.22803752  0.77196248]\n",
      " [ 0.73478651  0.26521349]\n",
      " [ 0.93261161  0.06738839]\n",
      " [ 0.65921505  0.34078495]\n",
      " [ 0.46927201  0.53072799]\n",
      " [ 0.27788346  0.72211654]\n",
      " [ 0.47544054  0.52455946]\n",
      " [ 0.67497196  0.32502804]\n",
      " [ 0.91546868  0.08453132]\n",
      " [ 0.80876437  0.19123563]\n",
      " [ 0.18608529  0.81391471]\n",
      " [ 0.47558228  0.52441772]\n",
      " [ 0.26306149  0.73693851]\n",
      " [ 0.72453763  0.27546237]\n",
      " [ 0.85713086  0.14286914]\n",
      " [ 0.53083735  0.46916265]\n",
      " [ 0.61616617  0.38383383]\n",
      " [ 0.38433916  0.61566084]]\n",
      "Average error on train set:  0.42405213046\n",
      "Average error on test set:  0.431503069161\n",
      "accuracy: 0.641\n"
     ]
    }
   ],
   "source": [
    "# Making predictions on the training dataset is bad but just want to compare.\n",
    "predictions_train = sentiment_predictor.predict(X_train)\n",
    "\n",
    "print(\"Preprocessing and testing model on testing set...\")\n",
    "\n",
    "predictions_test = sentiment_predictor.predict(X_test)\n",
    "\n",
    "print(y_train[0:20], predictions_train[0:20])\n",
    "print(\"Average error on train set: \", np.mean(np.abs(y_train - predictions_train)))\n",
    "print(\"Average error on test set: \", np.mean(np.abs(y_test - predictions_test)))\n",
    "\n",
    "predictions_results = [1 if max(x,y) == x else 0 for x, y in predictions_test]\n",
    "actual_results = [1 if max(x,y) == x else 0 for x, y in y_test]\n",
    "\n",
    "correct = 0\n",
    "\n",
    "for i, j in zip(predictions_results, actual_results):\n",
    "    if i == j:\n",
    "        correct += 1\n",
    "\n",
    "print('accuracy: ' + str(correct / float(len(actual_results))))"
   ]
  },
  {
   "cell_type": "code",
   "execution_count": 16,
   "metadata": {
    "scrolled": true
   },
   "outputs": [
    {
     "data": {
      "text/plain": [
       "array([[  5.35510716e+00,   8.36802255e+00,   1.42213862e+00, ...,\n",
       "          0.00000000e+00,   0.00000000e+00,   0.00000000e+00],\n",
       "       [  2.27998176e-02,   5.24435413e-02,   6.15595075e-01, ...,\n",
       "          0.00000000e+00,   0.00000000e+00,   0.00000000e+00],\n",
       "       [  2.84997720e-03,   0.00000000e+00,   7.57238942e+00, ...,\n",
       "          0.00000000e+00,   0.00000000e+00,   0.00000000e+00],\n",
       "       ..., \n",
       "       [  0.00000000e+00,   1.31108853e-02,   8.26493388e-02, ...,\n",
       "          0.00000000e+00,   0.00000000e+00,   0.00000000e+00],\n",
       "       [  2.84997720e-03,   3.27772133e-03,   2.10470816e+01, ...,\n",
       "          0.00000000e+00,   0.00000000e+00,   0.00000000e+00],\n",
       "       [  3.20907433e+00,   4.97558098e+00,   1.11149111e-01, ...,\n",
       "          0.00000000e+00,   0.00000000e+00,   0.00000000e+00]])"
      ]
     },
     "execution_count": 16,
     "metadata": {},
     "output_type": "execute_result"
    }
   ],
   "source": [
    "X_train"
   ]
  },
  {
   "cell_type": "code",
   "execution_count": 17,
   "metadata": {},
   "outputs": [
    {
     "ename": "SyntaxError",
     "evalue": "can't assign to literal (<ipython-input-17-57b759d079b7>, line 1)",
     "output_type": "error",
     "traceback": [
      "\u001b[1;36m  File \u001b[1;32m\"<ipython-input-17-57b759d079b7>\"\u001b[1;36m, line \u001b[1;32m1\u001b[0m\n\u001b[1;33m    1 += 2\u001b[0m\n\u001b[1;37m          ^\u001b[0m\n\u001b[1;31mSyntaxError\u001b[0m\u001b[1;31m:\u001b[0m can't assign to literal\n"
     ]
    }
   ],
   "source": [
    "1 += 2"
   ]
  },
  {
   "cell_type": "markdown",
   "metadata": {},
   "source": [
    "## Predicting the sentiment of amazon reviews"
   ]
  },
  {
   "cell_type": "code",
   "execution_count": 40,
   "metadata": {
    "collapsed": true
   },
   "outputs": [],
   "source": [
    "reviews_file = list(open('./data/amazon_reviews.txt', 'r', encoding='utf-8'))[:1000]\n",
    "total_reviews = len(reviews_file)"
   ]
  },
  {
   "cell_type": "code",
   "execution_count": null,
   "metadata": {
    "collapsed": true
   },
   "outputs": [],
   "source": []
  },
  {
   "cell_type": "code",
   "execution_count": 27,
   "metadata": {},
   "outputs": [
    {
     "name": "stdout",
     "output_type": "stream",
     "text": [
      "Great CD: My lovely Pat has one of the GREAT voices of her generation. I have listened to this CD for YEARS and I still LOVE IT. When I'm in a good mood it makes me feel better. A bad mood just evaporates like sugar in the rain. This CD just oozes LIFE. Vocals are jusat STUUNNING and lyrics just kill. One of life's hidden gems. This is a desert isle CD in my book. Why she never made it big is just beyond me. Everytime I play this, no matter black, white, young, old, male, female EVERYBODY says one thing \"Who was that singing ?\" 1\n",
      "One of the best game music soundtracks - for a game I didn't really play: Despite the fact that I have only played a small portion of the game, the music I heard (plus the connection to Chrono Trigger which was great as well) led me to purchase the soundtrack, and it remains one of my favorite albums. There is an incredible mix of fun, epic, and emotional songs. Those sad and beautiful tracks I especially like, as there's not too many of those kinds of songs in my other video game soundtracks. I must admit that one of the songs (Life-A Distant Promise) has brought tears to my eyes on many occasions.My one complaint about this soundtrack is that they use guitar fretting effects in many of the songs, which I find distracting. But even if those weren't included I would still consider the collection worth it. 1\n",
      "Batteries died within a year ...: I bought this charger in Jul 2003 and it worked OK for a while. The design is nice and convenient. However, after about a year, the batteries would not hold a charge. Might as well just get alkaline disposables, or look elsewhere for a charger that comes with batteries that have better staying power. 0\n",
      "works fine, but Maha Energy is better: Check out Maha Energy's website. Their Powerex MH-C204F charger works in 100 minutes for rapid charge, with option for slower charge (better for batteries). And they have 2200 mAh batteries. 1\n",
      "Great for the non-audiophile: Reviewed quite a bit of the combo players and was hesitant due to unfavorable reviews and size of machines. I am weaning off my VHS collection, but don't want to replace them with DVD's. This unit is well built, easy to setup and resolution and special effects (no progressive scan for HDTV owners) suitable for many people looking for a versatile product.Cons- No universal remote. 1\n",
      "DVD Player crapped out after one year: I also began having the incorrect disc problems that I've read about on here. The VCR still works, but hte DVD side is useless. I understand that DVD players sometimes just quit on you, but after not even one year? To me that's a sign on bad quality. I'm giving up JVC after this as well. I'm sticking to Sony or giving another brand a shot. 0\n",
      "Incorrect Disc: I love the style of this, but after a couple years, the DVD is giving me problems. It doesn't even work anymore and I use my broken PS2 Now. I wouldn't recommend this, I'm just going to upgrade to a recorder now. I wish it would work but I guess i'm giving up on JVC. I really did like this one... before it stopped working. The dvd player gave me problems probably after a year of having it. 0\n",
      "DVD menu select problems: I cannot scroll through a DVD menu that is set up vertically. The triangle keys will only select horizontally. So I cannot select anything on most DVD's besides play. No special features, no language select, nothing, just play. 0\n",
      "Unique Weird Orientalia from the 1930's: Exotic tales of the Orient from the 1930's. \"Dr Shen Fu\", a Weird Tales magazine reprint, is about the elixir of life that grants immortality at a price. If you're tired of modern authors who all sound alike, this is the antidote for you. Owen's palette is loaded with splashes of Chinese and Japanese colours. Marvelous. 1\n",
      "Not an \"ultimate guide\": Firstly,I enjoyed the format and tone of the book (how the author addressed the reader). However, I did not feel that she imparted any insider secrets that the book promised to reveal. If you are just starting to research law school, and do not know all the requirements of admission, then this book may be a tremendous help. If you have done your homework and are looking for an edge when it comes to admissions, I recommend some more topic-specific books. For example, books on how to write your personal statment, books geared specifically towards LSAT preparation (Powerscore books were the most helpful for me), and there are some websites with great advice geared towards aiding the individuals whom you are asking to write letters of recommendation. Yet, for those new to the entire affair, this book can definitely clarify the requirements for you. 0\n",
      "Great book for travelling Europe: I currently live in Europe, and this is the book I recommend for my visitors. It covers many countries, colour pictures, and is a nice starter for before you go, and once you are there. 1\n",
      "Not!: If you want to listen to El Duke , then it is better if you have access to his shower,this is not him, it is a gimmick,very well orchestrated. 0\n",
      "A complete Bust: This game requires quicktime 5.0 to work...if you have a better version of quicktime (I have 7.5), it will ask you to install the quicktime available on the CD...if you click no, it will not let you play. So, I begrudgingly clicked yes on the third try, and it installed quicktime 5, THEN it tells me to please install the quicktime available on the disc. It KEPT telling me that, even after I uninstalled my version of quicktime 7.5, and reinstalled Barbie Rapunzel and quicktime 5. Very frustrating, and the game absolutely will not work for me. It keeps telling me over and over, to install quicktime 5, tho I've been through the installation process repeatedly. It is NOT my \"operating system limitations\". This is a brand new computer...merely weeks old with all the state of the art contraptions. 0\n",
      "TRULY MADE A DIFFERENCE!: I have been using this product for a couple years now. I started using it because my hair had gotten so dry from all the chemical treatments and relaxers. This actualy came in the relaxer kit. I tried it and could not beleive the difference it made with one use. I could not find it in any of the stores at the time so I searched Amazon and they had it. I absolutely love it. It is the best moisturizing product I have used so far. My hair is soft with good elasticity and it is not breaking anywhere close to what it was. I am very happy with it. 1\n",
      "didn't run off of USB bus power: Was hoping that this drive would run off of bus power, but it required the adapter to actually work. :( I sent it back. 0\n",
      "Don't buy!: First of all, the company took my money and sent me an email telling me the product was shipped. A week and a half later I received another email telling me that they are sorry, but they don't actually have any of these items, and if I received an email telling me it has shipped, it was a mistake.When I finally got my money back, I went through another company to buy the product and it won't work with my phone, even though it depicts that it will. I have sent numerous emails to the company - I can't actually find a phone number on their website - and I still have not gotten any kind of response. What kind of customer service is that? No one will help me with this problem. My advice - don't waste your money! 0\n",
      "Simple, Durable, Fun game for all ages: This is an AWESOME game! Almost everyone know tic-tac-toe so it is EASY to learn and quick to play. You can't play just once! The twist is that your pieces are slightly different sizes - just big enough to gobble up your opponent. The first person to make tic-tac-toe wins, but it's not as easy as it looks when you're stuck in the mindset of just making three in a row and forget about the gobbling possibilities! My 4 and 5 year olds will beat me even when I'm trying to win! Excellent beginning critical thinking game. Grandparents loved playing it with the kids too. 1\n",
      "Review of Kelly Club for Toddlers: For the price of 7.99, this PC game is WELL worth it, great graphics, colorful and lots to do! My four year old daughter is in love with the many tasks to complete in this game, including dressing and grooming wide variety of pets and decoration of numerous floats to show in your little one's very own parade. 1\n",
      "SOY UN APASIONADO DEL BOX: Y ESTE LIBRO ESTÁ ESPLÉNDIDO !Lo disfrutas, lo puedes usar como obra de consultaNos trae LAS HISTORIA DE LOS BOXEADORES MÁS BRILLANTES, DE LOS CAMPEONES DURANTE CIEN AÑOS !!Si te gusta el box...¡NO TE LO PIERDAS ! 1\n",
      "Some of the best fiddle playing I have heard in a long time: This is an excellent album with some great fiddle playing. Ryan is amazing to watch when he plays in person. You can feel the emotion he puts into each song. 1\n",
      "Long and boring: I've read this book with much expectation, it was very boring all through out the book 0\n",
      "Dont like it: This product smells when you open the package and it appears one of the gel cushions leaks so I spent $10 and havent worn then. I wouldnt buy this product again. Dont waste your money on something you may not be able to use. 0\n",
      "one of the last in the series to collect !: The magazine was in very good condition and had the usual high standard of articles and photos that Victoria magazine has come to represent. I have collected all the previous magazines of the series and still enjoy leafing through them on a rainy day 1\n",
      "Sony Hi8 Camcorder with 2.5 LCD: I believe I will be very happy with the camcorder. Its small,light and easy to handle.The LCD is clear and bright.Ease of operation. 1\n",
      "Don't Take the Chance - Get the SE Branded Cable: If you purchase this data cable, you need to know that you will receive no real directions or information regarding what to check if nothing works. As directed, I downloaded all of the files from the SE site (70MB on dial up!), and then downloaded all of the user guides. Everything seemed to install ok, but nothing would make my phone be recognized. After that I scoured the SE site for troubleshooting info on their branded cable-in the hope that something would help me figure out the problem. After 2 full days of beating my head against the wall, I finally threw the cable and the useless CD that came with it in the trash.If I had used my brain I would have paid the extra $$ for a SE branded cable and software (and the support that comes along with that). I now have the real deal (SE data cable and software), and guess what? Yep, installation was a breeze and it works beautifully. You really do get what you pay for. 0\n",
      "Waste of money!: Like many of the Barbie CD Roms, the playtime is limited - averaging about 5 mins for each of my two daughters (ages 5 & 7). Like the Barbie movies and other CD Roms the graphics are poorly done. 0\n",
      "works great: i bought this item to connect to a strobe light. unit functions well. not sure that it has all the range claimed, but i never really believe everything a manufacturer claims about a product like this. just too many variables. I can say it works from my neighbors house into my garage; at least 40' going thru two buildings. now if i make too much noise later at night he can simply press a button to let me know. 1\n",
      "Has No Range: I suppose if you were going to sit in the same room and have line-of-sight with the device, lamp, etc. plugged into this control, it might work. Maybe. But I had it completely within the stated range and one basic house wall separating me and the unit, and it was completely unreliable.I'd recommend spending a touch more money and getting a higher quality product. 0\n",
      "wish i had gotten this sooner!: ive got a lamp in the corner of my room behind my desk thats a complete pain in the arse to turn on and off. ive been using this with the lamp for a month now and it works perfectly. added a little velcro and now i have a light switch where ever i want. under my desk, shelf, etc. 1\n",
      "Three Days of Use and It Broke: Very disappointed in this product. It worked perfectly for exactly three days and could not be resuscitated. It was very inexpensive so I did not want to pay half again the price to ship it back for an exchange, so the company would do nothing when they sent me an inquiry as to product satisfaction. 0\n",
      "This is the all time best book!: This is the all time best book. She mentoins in the book how anyone can be a vampire, who knows. Well anyway I like the idea of having one soulmate and one crazed werewolf crush. P.S I think that it is a good twist on the story about how anone can be part of the night world. 1\n",
      "Mary Ash: Can't believe I have never reviewed this book before. First read this back when I was 13. Like a lot of girls wanting the mysterious boyfriend and believed in soul-mates which drug me into these books. Rereading it over time years later still stands the test of time for me. Ash is that bad boy you want and your parents want you to stay away from even though he seems like a jerk there is just something about him that make you wanna root for him. 1\n",
      "Tha BOMB of a book!!: L.J. Smith is the best author in the whole world. I read this book a year ago but I can't stop reading it. It is beyond sweet. I love Ash.The entire Night World seris is the bomb. I read mostly everyone of L.J Smiths book and they all are awesome. I think Ash and Mary Lynetee are one of the sweetest soulmates. I loved how they tried to fight there feelings but couldn't. There should be real guys like Ash,Quinn,Juliun,Damon,Gabriel and I can go on forever. I think everyone should read at least one L.J Smith book. If you do you'll be hooked on them for life,like I am. L.J Smith is the BEST!!!! 1\n",
      "This book was a great book that i have read many times!: This book was so great! I loved and read it so many times that i will soon have to buy a new copy because my last one fell apart. I just hope that there is a follow up on this story because I want to know if Mary-Lynette and Ash get together. 1\n",
      "They'd watch it nonstop if I'd let them: apart from it arriving broken the first time, my kids are loving this DVD, which I alternate with the other I purchased to keep my own sanity. This DVD has created a Thomas fan out of my 3 1/2 yr. old daughter as well. 1\n",
      "Not as expected...: My children get easily bored with this video. I thought it was several episodes of Thomas but it has A LOT of just children and parents talking about Thomas and all. It doesn't keep the kids attention because what kid wants to sit and listen to a bunch of talking. This was my first Thomas video purchase...hopefully the next will have more shows and less talking! 0\n",
      "Wonderful: I went online for information about Dockers Khaki pants. The size my husband wears are very hard to find in stores. I was very impressed with the selection I had and he was thrilled to have all these pants without having them taken up in the length. The delivery was quick (especially during Christmas) and I really appreciate all the effort made to send us the selections we chose. 1\n",
      "Doublecharged for shipping because merchant was backordered: Merchant was out of stock on the second pair of pants, so when it was shipped I was charged $9 again when the second pair was in stock weeks later.Will not buy from Amazon vendors again. 0\n",
      "Book of Chance: I had just finished reading 'The Food of Love' by Anthony Capella since I had nothing to do, but read. Mind you, reading is one of my favorite pastimes.I had recently bought a series of books. The Food of Love was just one of the books I just picked up so I can get that 'three for the price of two' deal at Waterstones in London (British's equivalent of Barnes&Noble;). I wasn't really interested, but it was one of the more interesting options I had. Well, I'm glad I made the right choice! I started reading it last night and I haven't put it down since.If you love food and a little romance, which I am both fond of, it's an excellent book to read. Mr. Capella was remarkably thorough in his description of the rich and textured Italian dishes that the words assails you with a sense of smell and taste that leaves you hungry for more. This book took me by surprise and I'm sure you would not be disappointed. 1\n",
      "Light reading, light in substance: A clichéd storyline based on the classic Cyrano de Bergerac, this book reads like a rookie novel written by someone who has a knowledge and passion for Italian culture and cuisine, but little experience in developing a story. I can understand Bruno and his passion for cooking, but have no clue as to his passion for Laura. It seems to be primarily based on her being a blonde American. How exotic. Her character is so underdeveloped- we know she's studying art history, and she enjoys Bruno's cooking with a passion. That's about it. And Tomasso, he's just the cliché for any over-sexed Mediterranean male who encounters foreign females.It's a light and entertaining read if you can get beyond all of the reasons you should put it down and walk away. That being said, I will, however, check out this author's more recent novels. He does seem to have a way with technical details, hopefully his storytelling has caught up. 0\n",
      "WeiB FOREVER!: This is a great CD!! I love WeiB Kreuz!! The anime is awsome! Its bout 4 guys (hhhooottt) who work at a flower shop, but at night they are the White Hunters (or Byce as in the anime) they are assasins that \"hunt the tomorrow\" of Bad guys, the bad guys the police cant get . Like when teens start blowing up in flames in public for no reason... from a strange gas substance that w/ instant contact ingulfs any object... but i couldnt resist. Its also an emotional anime at times! I think this is a Cd and Anime any anime fan should see... 1\n",
      "Great Book--unacceptable condition: I was looking forward to receiving this book, as I was going to New Orleans to Antoine's restaurant. I read the book at least thirty years ago and wanted my own copy. This book came without a dust jacket and was so musty that I could not read it without my eyes watering. I sent it back, at my own expense, and to date, I have not had a refund. 0\n",
      "Real HTML for people who build sites for a living: This book is simply great! If you build sites for a living you probably struggle with books that trivialize HTML and present its syntax willy-nilly. This book is the ONLY book I've ever seen that actually seems to be written by someone who builds sites professionally and wants to know all the markup. It explains logical and physical tagging styles well and does a really good job showing how to hook HTML with other technologies without trying to teach CGI, CSS, etc. at the same time. The only thing I wish is that this guy would write a JavaScript or DHTML book. I'd buy that right away. 1\n",
      "Marriage has its good and bad moments: This is a tear-jerker mixed with humor. A lot of rough patches for this couple but don't let that scare you off because there are also a lot of good times, too. I watch this movie often as I am a hopeless romantic and I thoroughly enjoy the music and dancing (Hindi style & Pop Rock mix), plus it's worth wading through the tears to get to the fun parts. It ends the way a typical relationship of this type would, but that's not exactly a bad thing in this case. I recommend it to everyone. 1\n",
      "Amazing...: love it...very touch.it's to bad that in the dvd description doesn't mention no subtitles 1\n",
      "Leslie in a nutshell: Danelectro DJ-20C Rocky Road Spin Speaker Mini Effects Pedal, is an amazing little pedal!I use it with guitar, and keyboards.Using with Keyboards, organ mode(doesn't matter which type) jazz, rock, gives me an instant controllable Leslie effects.it includes fast and slow ramp up,boost, volume/drive. thru a mixer in stereo you can do some amazing stuff with this inexpensive unit.The only drawback i have found is the buttons are very hard to engage and disengage.But i'm working on that. i will modify the springs if possible and maybe even send a recommendation to Danelectro. 1\n",
      "More Romance Please and Less Mystery!!: the reason i gave two stars when I usually give 5 stars for ms. feehan's books is b/c this book was tooooooo mystery/gothic genre rather than romance. I really didn't feel like the two main characters were in love, in fact the entire book was almost entirely from the heroine's point of view and I was getting sick of her whining and her point of view. unlike the \"dark\" series, you really didnt feel any passion. the book is better suited for the mystery/gothic genre and NOT romance.even the mystery was not that good! its only in the last chapter that for some unforseen reason the villain confesses all in less than three pages. throughout the entire book, you're kept in suspense of who was the bad guy, if you wanted to know who it was look at the last couple of pages....Ms. Feehan, if your reading, please focuse more on the main characters relation to each other rather then distract us with so much unamusing mystery! 0\n",
      "A Lost Author: I have read all of the Carpathian novels to date, except one. I very much enjoyed them at first, but nothing EVER gets resolved. You would think that after 16 books something would have been resolved and a new obstacle introduced. As for this book, it is an off-shoot of another Carpathian novel about the Jaguar Line. I was hoping to find out more about this curse, the origins and why the males kill the females. Nothing, not a word about the Jaguar curse. And why do the walls and ceilings change? Ideas introduced and left at that. Ms. Feehan went, once again, off on a tagent. Her books become less and less meaty and more and more expensive. I will NOT be buying any further books by this author. What a shame. 0\n",
      "Okay but Messy....: We purchased this bag for a vacation we were taking a cruise and we wanted to use it when we left the ship. The bag was convenient to carry, however the faux leather began peeling. At first it wasn't so bad but then it became annoying because it then began flaking all over your skin and clothes. I would have rather the bag been a cloth bag with no flaking than the faux leather that I had to keep wisking away from my skin and clothes. 0\n",
      "Patricia Cornwell has turned me into a reader: I was never really a big reader before and somebody put me on to Patricia Cornwell. Well, now I can't put her books down. Her books just get better and better as you go through the Kay Scarpetta series.I really enjoy the series concept and the fact that some of the same characters keep returning from book to book. It's nice to see the characters develop through each story line. It allows you to get comfortable with them, get close to them, and get frustrated with them when they do something out of character.I highly recommend reading not just this book but the entire Kay Scarpetta series. 1\n",
      "Best of the First Four in this series.: This is an awesome book. Kay just keeps getting better and better. It's also fun to see the characters develop more with each book - Kay herself as she seems to be always \"one against the world\", Marino who it appears is heading towards some sort of heart attack, Lucy who seems to be getting more and more quixotic. In this book Kay finds herself smack in the middle of a series of gruesome killings. It appears that a recently executed murderer, who Kay herself has seen on her autopsy table, is still around committing crimes. A number of murders occur where the executed murderer's fingerprints are turning up. Kay, Marino and Benton try to track a killer, but it appears that the corruption goes up a long ways into the political stratosphere. This is a taut and totally believable thriller. I can't wait until the next one because the book ended with the way wide open to the next installment. 1\n",
      "Great Beginning...poor ending: Parricia Corwell, Cruel & Unusual was breathtaking in the beginning! Her relation to her family, her dedication to her work exeptional. However, this story began to get boring towards the end...the ending, not too great. 1\n",
      "12 Y/O Potty Humor From 40 somethings does not a comedy make....: Saw this movie and felt compelled to warn people not to waste 144 agonizing minutes of their lives. In a nutshell, I have heard many more clever jokes and \"one-liners\" watching King of Queens on cable.....SERIOUSLY FOLKS, it's THAT BAD....the bad jokes and the 23 references to small jewish penises got old real quick. Thought i would always be a Sandler fan but he clearly, Adam was in need of some rent money and jumped on this script for the cash and RAN!Why else would the plot line include Seth Rogan writing for him??? To put things into perspective, this film made Bruno look like Casablanca!! 0\n",
      "I wish Adam Sandler wasn't in this.: I should have known going into this movie having Judd Apatow a part of it would mean I would hate it. However, having Adam Sandler in it and seeing the previews in the theater we gave it a (very hopeful) chance. The movie loses it's true premise of having depth in amongst the terrible & crude \"jokes\". I have to say we didn't make it more than 30 minutes into the movie before turning it off. It is a constant barrage of pathetic behavior. I just don't believe that there are this many people out here that are like this and can relate to this behavior. Very Disappointing. 0\n",
      "Wonderful, baffling mix: This has just about everything. The rabbi, of course, is learned and devout, even if his schooling causes some nervousness. The cat becomes fantastical when some mystery grants him human speech. The visit abroad captures all the distrust of the alien that the most insular of small-towners can summon. And, around all of that, the monotonous drama of life unfolds: loves, losses, and changes that no one knows how to ride out.Comics have moved well past the BamPow genre into many other idioms - this might border on chick lit, but much less than some. If reality and fantasy remain negotiable for you, with deep family devotions and deeper (or shallower) personal ones, the ragged lines of this comic might touch you.-- wiredweird 1\n",
      "No another grill like this...: This grill is one of its kind...It can be use anywhere without so much hard work..it fits snugly anywhere.... 1\n",
      "Disappointment at it's extreme: I had never read this author, but knew of many who did. When I read that this book was being made into a movie, it seemed a good opportunity to read her, before seeing the screen mess up her work. Now, I pray that the screen does so.I was extremely disappointed with this work. It is unrealistic, fails to capture the reader, and at points when I should have been completely engrossed, left me struggling with whether I wanted to pick it up. I hope she has written better than this, or else, there are a lot of people who have not bothered reading some of the strong authors available.Her characters are not sympathetic, they do not draw the reader's attention, and they are dull in overall scope. I have too many other good books to read before I pick up another book from this author. 0\n",
      "From Potter's Field by Patricia Cornwell.: This was a very good book with excellent descriptions. It's a real page turner and keeps you wondering what's going to happen next. The best parts are at the very beggining and the end. 1\n",
      "An Engrossing and Chilling Read: My first foray into the novels of Patricia Cornwell has left me impressed. The characters were intense and realistic. My only concern is that the \"evil\" Temple Gault at the end of the novel is as vague as he was in the beginning. Why did he decide to trail and give \"gifts\" to Dr. Scarpetta? Needless to say, I will be reading more of Cornwell's books, especially if they are at all like this novel. 1\n",
      "great book. i loved it! they mentioned a movie, where is it?: the publisher said soon to be a movie. does anyone know if a movie was ever created? 1\n",
      "Simply Awesome!: This was only my first Cornwell novel and I'm hooked! In the past few months I have managed to collect all of her books and I can't wait to dive into them! This summer will be a suspensful one for Scarpetta and I. 1\n",
      "Predictable & has a lame ending: I have read all of the Scarpetta novels & this is not the worst (that would be Cause of Death) but rt. up there. I thought the story began well enough, but the ending was lame. The plot was predictable. Lucy is nauseating as ever & wish she'd die. Scarpetta is still overly materialistic & self-righteous which has gotten old.One of many gripes would be that I find it very hard to believe that all the crime agencies & the media have zero knowledge of this serial killer's family background (close family members - like a twin sister).My advice - don't let this be your 1st Scarpetta novel. 0\n",
      "Black Knight C2C Heat Squash Racquet: Great racquet! But I'm a power hitter I have no power Generating Difficulty With This racquet. My style is to try to volleyball and everything I've found this racquet to well balanced and maneuvered. I like the factory grip although with distinct ridges Others prefer a smooth grip May - give the factory grip on chance and you May Come to like it. The \"sale\" prices are right for a high About end racquet, racquets and Black Knight in Have a reputation for overall durability so you Should get plenty of use Before replacement. Note: I got my first C2C as a D level player and did not like it Immediately. Howeve, as my game improved version I switched from my Bandit Black Knight C2C White racquet to the great success and Have HAD. So, It Might not be the right racquet for a beginner, intermediate to advanced players But Will Benefit From this fine racquet. 1\n",
      "A historical gem whose title obscures its intent: Started laughing in the second chapter....enjoyed the book after I realized that I wasn't going to learn anything new. It's obviously a miracle that we survived for the 65 years since it was first published.And seeing that the pending insolvency of the US was as loudly shouted in the 40's as it is now was worth the price. This book had quotes that would shame both modern day political extremes in the US.Kudos to whoever owns the copyright --- now there's economics in action. 0\n",
      "Vastly overrated work of fiction: I was sorely disappointed in this vapid and smarmy demogoguery. Sure, back then there was no Google searching nor number crunching laptops. But plenty of economic data was available which the author managed to circumvent. Probably the book's greatest failing was to compare the field of economics to other sciences. Even with today's analytical resources, economists are still all over the map on their predictions & conclusions. On the other hand, meteorologists seem to do quite well.Naturally the radical libertarians, tea-baggers & Republicans love this slim volume which is even slimmer on evidence. I would read it only if you want to know why the lunatic fringe is so nutty & irrational. 0\n",
      "sergeant frosts lonely hearts club band: edith has created a venue for herself to exorcise melancholic memories with painful melodies. there are no disguises on this collection. lonesome guitars and medicinal piano radiate the mood of broken spirits. she writes all her own songs. these ballads are definite reminders of those unbearable moments we all have to live. they are all gray sky, secluded,isolating tunes. i envision a ironical pace. i thought she was from chicago, millions and millions of people, and she sings stark loneliness 1\n",
      "Great Camera: I recently purchased this camera and I'm very satisfied with it. I find the quality of the pictures with this camera as good if not better than anything else without going to digital. It is very comfortable to hold and the controls are easy to use. I highly reccomend this product to anyone looking for a top quality camera at an affordable price. Nice going Sony! 1\n",
      "Had to return it: The sizing is perfect and a medium fits just right. I am 5'2 size 4 137 lbs before baby and i gained about 35 lbs during pregnancy, just an idea for sizing but keepin mind that everyone has different fat distributions on their bodies. I don't like how my post baby fat was getting pushed up the top and makes me look like I have back boobs. The shape wear crunched up after you sit or bent over and so it doesn't feel smooth all over. Squeem makes a vest version too so maybe that one will be a better choice for better coverage. If you do decide to purchase this product it's easier to squeeze in if you lay on your bed and suck in your guts. 0\n",
      "Broke the 2nd time I wore it, great until then: I think this product provided a great fit. I was able to hook on the first row by myself within about 5 mins max. It wasn't quite as difficult to get on as I thought it might be, although it isn't particularly easy either. I tried it on and wore for about 2 hours, and then the 2nd time I wore it had it on for about the same period of time. I took it off and one of the metal boning pieces had popped through and was hanging out at the bottom. This product is far too expensive to have something like that happen. The fit on me was snug, but I am sure I had the correct size. Now I have to figure out how to get this resolved. 0\n",
      "The amazing squeem: I love love love the squeem!!! The before and after pictures are definitely real!!! You can immediately tell the difference when you put it on it definitely improves your posture, you eat much less since it squeezes the he'll outta you but its not an uncomfortable squeeze. 1\n",
      "Great Product: A friend recommended this product to flatten the tummy for great look in a dress. I brought a medium according to the measurement guide lines but I needed a small. It was extremely difficult to put on so I needed assistance. Once it was on I was still able to contract my core, which meant that I needed a smaller size. I believe it is because my waist sits high on my torso. Other then that this is great buy. 1\n",
      "I recommend ordering a size or 2 larger than your regular size.: I ordered the Squeem waist shaper in a size small...my general size is 4-6, I'm 5'4 and weigh 120lbs right now; over the winter I ate too much cheese and gained about 7 lbs which isn't much to complain about but I have a roll of belly fat that shows through a slinky dress (I just wanted to smooth out my middle and fat above my hips). I wish I'd ordered a medium (or even large) instead because as I was hooking the waist shaper from top to bottom as instructed it was way way way too tight by the time I tried to hook the lower 6\" above my hips. I don't want to be uncomfortable I just want a smooth finish! So, if you're similar in size I recommend ordering a medium instead. In general the quality of the product is exceptionally well stitched and built to last. 1\n",
      "WASTE OF MONEY: The inner metal rods keep poking through: The squeem is a great idea but the construction is not the best. While the product compresses your stomach, the inner metal spines bend and then protrude at the ends. I have had to sew the ends repeatedly but the spines keep poking through. At one point, the spine developed some sort of crack and when it poked through the bottom, it scraped my stomach and I took it off immediately. I have never washed the product in the washing machine...I have always handwashed it. So, the manufacturer can't say that I didn't take good care of it. 0\n",
      "CAUSES BRUISING AND BLISTERS IF WORN TOO LONG: I ordered this product to slim down my stomach. I was looking for something I could wear all day with my jeans as well as underneath my dresses. I wore the squeem to work occasionally and then I would take it off when I got home. When I would take it off, I felt sore around my sides and my back, I washed the squeem several times and even wore it on the other side thinking this would help but it didn't. One night after work me and some of my coworkers went out for drinks so I ended up keeping the squeem on for about 14hours instead of my normal 9 hours. That night when I took the squeem off I had blisters and bruising on my side and back which have now left black marks (I'm black)on my body. I read other review before I purchased the squeem and I didn't see anything that alerted me not to buy it. Not sure why this happened but if you read this and it happens to you don't say I didn't warn you! 0\n",
      "Not happy: I was really unhappy with this. I followed what others said and ordered based on my prepregnancy size. It was WAY too small at 7 weeks post-pardum. I'm ten weeks post-pardum and may try it again but it was a real self-esteem crusher initially. I'm a size 0 pre-pregnancy and so I thought it was fair to order the XS but I guess not. 0\n",
      "nice product: My wife loves it but we unfortunately perchaced the wrong size. She made a coment about the sizing chart being in dress sizes and she picked the size she is and we received it and the apparel was way too small. We have been meaning to exchange it but its tough to get time being as we have new born twins. That's why she wanted the apparel. She was really excited to receive the part and was disappointed when it didn't fit. 0\n",
      "Does the job: I have been looking for something to hold in my stomach that wasn't elastic based. Found this item and have to say I am pretty pleased. The hooks do take a while, but once they are all done, the waist cincher does what it says it will do. The only negative thing is what a lot of the other reviews complain about. It does tend to cause back fat to appear more prominent by your underarms. So I can't wear this with a top that is clingy. Can only wear with looser fitting shirts. Oh well, nothing is perfect. 1\n",
      "conspiracy theorist: The author is very likely a Kurdish nationalist, not implausibly a quite supporter of the PKK. As a Communist, he has no room for religion. His analysis is misleading, basically he runs after Muslims under the banner of Islamism, he seeks to undermine the Islamic religion to satisfy his own psychological needs. The author has suppervised the work of others who also claimed to have proved that Islam does not work. The author does not use objective scientific methods, he basically writes in a way that confirms his own priori conclusions. Read the book, if you wish, but with such qualifications in mind. You may read it to understand how the bigot's mind actually works. 0\n",
      "Another disappointment from Higgins: This novella (stretched to 271 pages by wide margins and double-spaced lines) reads like a screenplay treatment. There is very little character development, movie-like dialogue, and plenty of mindless action. The ending is wholly unsatisfying and I'm led to believe that this is simply a set-up for another book. An author with some integrity would have placed Edge of Danger as part 1 of a 2-part novel.If you are dead-set on reading Edge of Danger, don't waste your money. The cover price of .....is an insult and the deeply discounted .......... price will still leave you feeling ripped-off. Go to your local library in the morning and you'll finish Edge of Danger in time for an early lunch. Just don't expect to have any appetite left. 0\n",
      "1, and thats being generous....: I have read many of Jack Higgins' books and this is the poorest so far, in my humble belief. As I travelled thro' the pages it just got harder and harder to believe the simplicity with which Mr Dillon strolls thro' the events at hand. The story also lacks any imagination and could probably have been summed up in a short story. Mr Dillon is just to sci-fi I'm afraid.There is a quote at the start of the book and as I got near the final chapters, I was starting to imagine that the Author would be writing the finale of Mr Dillon....the quote read\"To Tess, who thinks it's about time\"Author, I think she may mean something else.... 0\n",
      "Good matt nude lipstick: It's got a nice warm scent of vanilla-like smell. Texture is creamy. Meadow Sweet is a nice nude color. Can't apply too much or else it'll look a bit dry. 1\n",
      "I would sell it -- book complete with dust cover. Excellent: West is only fairly judged by the breadth of his work. He has a special view of human nature and all its weaknesses. 1\n",
      "A welcomed change from the frozen plains of Europe: A refreshing, sunwarmed, beautifull change from the frozen steeps and plains of Ice Age Europe. A delightful story of a woman who must face and overcome immense odds to survive. The plot line moves in different ways from other \"Woman against the odds\" novels so it is a fresh and not predictable. A very good read and a much better choice over Jean Auel's \"Shelters of Stone\". 1\n",
      "where does the Novel begin?: I found it preachy and long and got.very bored to claw my way through the very wordy prologue.Then tried to find the.actual novelFinally gave up!!! 0\n",
      "Avoid it.: The abridged version of this book would read as so:\"Sin is inevitable. So make the best of bad situations. And oh by the way... women are strong.\"There ya go. Nuff said. I don't need to read obnoxiously long sentences lamenting on one sentiment for the entire 160 odd pages or so of this travesty. The entire book is just one big complaint. From the girl who commits adultery. She laments about it for the whole stinking book and puts up with some obnoxious kid the for whole thing as well. Painfully thick language, stupid storyline, quixotic style... everything that would piss off a recreational reader. Avoid it. 0\n",
      "ok...: this book was recommend 2 me from my neighbor. but i dont think that dis is dat gud of a book 2 recommend... i didnt like it 2 much but... 0\n",
      "The Scarlet Letter: I really enjoyed this book. It shows the judgmental tendencies in our human race and how one woman strove to live a life of service to others to gain redemption for her mistake. Can't go wrong with the classics. 1\n",
      "This edition is not complete: This review refers to ISBN 978-1613823613. With no explanation or indication that it is doing so, this edition leaves out the author's introductory chapter, \"The Custom-House.\" Admittedly, the chapter is long, tedious, and skipped by many. Still, it leaves the book useless for the classroom and, let's face it, who else is going to read it? This isn't exactly light summer reading.In addition, there is no bolding of SAT words, with definitions in the margins, that some reviewers mention, which was the main reason I chose this edition. In fact, other than the abbreviated text, there is absolutely nothing: no forward, no reader's guide, no author bio -- nothing. So, not the most helpful textbook.On the bright side, it is well-bound and the type is quite easy to read.I am returning the book, and looking for a more suitable edition. 0\n",
      "Creepy: The creepiest book I've ever read! It's a creepy mystery/romance all in one creepy book! I would read it again lol 1\n",
      "A book for those with time on their hands: If this book is so great, then why are there so many people who give it only one or two stars? Should a great book not be able to be enjoyed on some level by everyone? To the best of my knowledge, only erudites and scholars enjoy this book. A good book, but one with a limited audience. Don't read it unless you don't mind wading waste deep through overly long sentences, antiquicated words and flowery prose. Personally I like an author who gets to the point. 0\n",
      "Painful: This book has to be one of the most tedious works of literature ever written. Hawthorne is a great writer, but I don't know how this book made it into that sacred list we call \"classics\". Perhaps on the merit of his name alone? 0\n",
      "Great novel: The Scarlet Letter by Nathaniel Hawthorne is a great novel. It takes place in Boston, Massachusetts during the era when Puritans were there. The main character Hester Prynne is forced to wear a Scarlet Letter A for adultery because she cheats on her husband while waiting for him to come from Europe.The book really recaptures what Puritanism was like. Its interesting to think about what America would be like if we were still Puritan. A theme of the book is concealed guilt. The minister Arthur Dimmesdale has concealed guilt which causes him severe pain. The message of the book is that you shouldn't let some minor sin you did in the past haunt you for the rest of your life.The book denounces the religious atmosphere of the Puritan village claiming that it stifled the merriment and joy of the culture of Old England. You get a picture of how the wonderful culture portrayed in the works of Chaucer was lost in America due to the influence of the Puritans. 1\n",
      "Horrible reader: i couldn't listen to this book because the women reading it has such a screechy horrible voice so i can give no review of the actual book but whatever you do try to find a version with a different reader if you're into audio books 0\n",
      "Mistake?: I ordered the Penguin edition for this book five weeks before my grad class started. It was very important to have the correct edition for proper pagination. I PAID for the Penguin edition. I GOT the $2 Dover Thrift edition three weeks later. When I called the distributor, he told me to email him to remind him to fix it, but he didn't ask me my name or my order number or anything to identify me from any other customer. I asked for an email address and he told me to look on my confirmation email. The email address from the confirmation email didn't work. I had to spend another $15 to get the correct edition of the book. I'd already paid more for the book that I got than it would have been worth brand new. I will NOT purchase from this distributor again. 0\n",
      "The \"Scarlet\" Letter: Much to my amazement, this book has been placed on banned lists in several states. It's an excellent study of the devastation caused by guilt. Although the story does allude frequently to adultery, there are no graphic details that would make it unsuitable for use in a high school classroom. Both the illnesses caused by guilt and the good health of those who overcome it are made clear. 1\n",
      "The Scarlet Letter a must read for any American: The best book that I have ever been assigned to read for school by far. The way in which Hawthorne captures the shame that Hetser , the wearer of the scarlet letter, feels everyday and the utter torment that the weak Dimmesdale is in by not coming forth and saying he slept with Hester and the revenge ridden character of Chillingworth is spectactular.The way in which Hawthorne describes the setting and the actions that characters do is truly outstanding. Hawthorne has a huge flare for the dramatic which is great for the reader. Since Hester the main character concieved her daughter Pearl through an affair she has been snetenced to wear the scarlet A on her chest for the rest of her life. The story starts on the day Hester is to stand infront of the town and wear her badge of shame and all the drama in the small puritanical town of Boston starts from there. A must read for any American. 1\n",
      "The Scarlet Letter: A soap opera: Although this book, is considered a great work of literature, written to describe the harshness of Purtian New England. Plus, this book was heavily laiden with symbolism, and many other literary tools.The scarlet letter is a soap opera, and a bad one at that. Not only is it boring, no true action occurs in this book. Nothing truly interesting happens in this book. This boring work of literature spends an entire chapter describing a prison door.Although the author did a creative job of conveying his point, this is still the worst book I have ever read. I would never recomend this book to anyone who can not sit down and read the script to any second class soap opera with out falling asleep after the first 10 pages. This is a good book to study, however it is not a good book to read for pleasure, under any circumstance!! 0\n",
      "This book is Great!: One might notice that many of the negative reviews of this book contain horrible grammer and multiple spelling errors. Although I respect those who disliked The Scarlet Letter, I disagree. It's no wonder that people that don't know how to capitalize the word 'I'. I thought that this book was wonderful, if you are willing to put effort into understanding it. 1\n",
      "I had to read it...: I had to read this book for school. I did not like it. I'm not sure what the point is of this story; several people hae told me what they think it is but I dont agree and they dont agree with each other. 0\n",
      "Possibly the funniest movie ever made.: It starts off a bit slow, but once the product placement jokes start it takes off. 1\n"
     ]
    }
   ],
   "source": []
  },
  {
   "cell_type": "code",
   "execution_count": 82,
   "metadata": {},
   "outputs": [],
   "source": [
    "#Removes symbols from the text\n",
    "def preprocess(text):\n",
    "    exclude = set(string.punctuation)\n",
    "    text = text.lower()\n",
    "    text = ''.join(ch for ch in text if ch not in exclude)\n",
    "    return text\n",
    "\n",
    "\n",
    "def tokenize_words(line):\n",
    "    text = \" \".join(line.strip().split(' ')[1:])\n",
    "    label = line.strip().split(' ')[:1][0].split('_')[-1:][0]\n",
    "    tword = preprocess(text).split()\n",
    "    word = []\n",
    "    for w in tword:\n",
    "        if (w!= \"\"):\n",
    "            word += [w]\n",
    "    if int(label) == 2:\n",
    "        label = 1\n",
    "    elif int(label) == 1:\n",
    "        label = 0\n",
    "    else:\n",
    "        pass\n",
    "    return label, word\n",
    "    "
   ]
  },
  {
   "cell_type": "code",
   "execution_count": null,
   "metadata": {},
   "outputs": [],
   "source": []
  },
  {
   "cell_type": "code",
   "execution_count": 83,
   "metadata": {
    "collapsed": true
   },
   "outputs": [],
   "source": [
    "# Takes a training / testing file and fills up a matrix of inputs X and outputs y and returns X, y\n",
    "def fill_matrix_for_prediction(file, good_probs, bad_probs, total_reviews):\n",
    "    X = np.empty([total_reviews, 140])\n",
    "    y = np.empty([total_reviews, 2])\n",
    "    for i, line in enumerate(file):\n",
    "        label, words = tokenize_words(line)\n",
    "        if label == 1:\n",
    "            y[i] = 1, 0\n",
    "        else:\n",
    "            y[i] = 0, 1\n",
    "        \n",
    "        for j in range(70):\n",
    "            if j >= len(words):\n",
    "                X[i][2*j] = 0\n",
    "                X[i][2*j+1] = 0\n",
    "            else:\n",
    "                X[i][2*j] = good_probs[words[j]] * 100\n",
    "                X[i][2*j+1] = bad_probs[words[j]] * 100\n",
    "    return X, y"
   ]
  },
  {
   "cell_type": "code",
   "execution_count": 84,
   "metadata": {},
   "outputs": [],
   "source": [
    "X, Y = fill_matrix_for_prediction(reviews_file, good_probs, bad_probs, total_reviews)\n"
   ]
  },
  {
   "cell_type": "code",
   "execution_count": 85,
   "metadata": {},
   "outputs": [],
   "source": [
    "predictions_reviews = sentiment_predictor.predict(X)"
   ]
  },
  {
   "cell_type": "code",
   "execution_count": 45,
   "metadata": {},
   "outputs": [
    {
     "data": {
      "text/plain": [
       "array([[ 0.02852582,  0.97147418],\n",
       "       [ 0.03190762,  0.96809238],\n",
       "       [ 0.48865348,  0.51134652],\n",
       "       ..., \n",
       "       [ 0.26398517,  0.73601483],\n",
       "       [ 0.13406531,  0.86593469],\n",
       "       [ 0.11754979,  0.88245021]])"
      ]
     },
     "execution_count": 45,
     "metadata": {},
     "output_type": "execute_result"
    }
   ],
   "source": [
    "predictions_reviews"
   ]
  },
  {
   "cell_type": "code",
   "execution_count": 46,
   "metadata": {},
   "outputs": [
    {
     "name": "stdout",
     "output_type": "stream",
     "text": [
      "Average error :  0.491879752231\n"
     ]
    }
   ],
   "source": [
    "print(\"Average error : \" , np.mean(np.abs(Y - predictions_reviews)))"
   ]
  },
  {
   "cell_type": "code",
   "execution_count": 47,
   "metadata": {},
   "outputs": [],
   "source": [
    "predictions_results = [1 if max(x,y) == x else 0 for x, y in predictions_reviews]\n",
    "actual_results = [1 if max(x,y) == x else 0 for x, y in Y]"
   ]
  },
  {
   "cell_type": "code",
   "execution_count": 65,
   "metadata": {},
   "outputs": [],
   "source": [
    "reviews_df = pd.DataFrame({'Predicted_Sentiment':predictions_results,'sentiment':actual_results})"
   ]
  },
  {
   "cell_type": "code",
   "execution_count": 66,
   "metadata": {},
   "outputs": [
    {
     "data": {
      "text/html": [
       "<div>\n",
       "<style>\n",
       "    .dataframe thead tr:only-child th {\n",
       "        text-align: right;\n",
       "    }\n",
       "\n",
       "    .dataframe thead th {\n",
       "        text-align: left;\n",
       "    }\n",
       "\n",
       "    .dataframe tbody tr th {\n",
       "        vertical-align: top;\n",
       "    }\n",
       "</style>\n",
       "<table border=\"1\" class=\"dataframe\">\n",
       "  <thead>\n",
       "    <tr style=\"text-align: right;\">\n",
       "      <th></th>\n",
       "      <th>Predicted_Sentiment</th>\n",
       "      <th>sentiment</th>\n",
       "    </tr>\n",
       "  </thead>\n",
       "  <tbody>\n",
       "    <tr>\n",
       "      <th>0</th>\n",
       "      <td>0</td>\n",
       "      <td>1</td>\n",
       "    </tr>\n",
       "    <tr>\n",
       "      <th>1</th>\n",
       "      <td>0</td>\n",
       "      <td>1</td>\n",
       "    </tr>\n",
       "    <tr>\n",
       "      <th>2</th>\n",
       "      <td>0</td>\n",
       "      <td>0</td>\n",
       "    </tr>\n",
       "    <tr>\n",
       "      <th>3</th>\n",
       "      <td>0</td>\n",
       "      <td>1</td>\n",
       "    </tr>\n",
       "    <tr>\n",
       "      <th>4</th>\n",
       "      <td>1</td>\n",
       "      <td>1</td>\n",
       "    </tr>\n",
       "  </tbody>\n",
       "</table>\n",
       "</div>"
      ],
      "text/plain": [
       "   Predicted_Sentiment  sentiment\n",
       "0                    0          1\n",
       "1                    0          1\n",
       "2                    0          0\n",
       "3                    0          1\n",
       "4                    1          1"
      ]
     },
     "execution_count": 66,
     "metadata": {},
     "output_type": "execute_result"
    }
   ],
   "source": [
    "reviews_df.head()"
   ]
  },
  {
   "cell_type": "code",
   "execution_count": 67,
   "metadata": {},
   "outputs": [
    {
     "name": "stdout",
     "output_type": "stream",
     "text": [
      "accuracy: 0.524\n"
     ]
    }
   ],
   "source": [
    "correct = 0\n",
    "\n",
    "for i, j in zip(predictions_results, actual_results):\n",
    "    if i == j:\n",
    "        correct += 1\n",
    "\n",
    "print('accuracy: ' + str(correct / float(len(actual_results))))"
   ]
  },
  {
   "cell_type": "code",
   "execution_count": 68,
   "metadata": {},
   "outputs": [
    {
     "data": {
      "text/plain": [
       "498"
      ]
     },
     "execution_count": 68,
     "metadata": {},
     "output_type": "execute_result"
    }
   ],
   "source": [
    "n_reviews_actual  = len(reviews_df[reviews_df.sentiment == 0])\n",
    "n_reviews_actual"
   ]
  },
  {
   "cell_type": "code",
   "execution_count": 69,
   "metadata": {},
   "outputs": [
    {
     "data": {
      "text/plain": [
       "502"
      ]
     },
     "execution_count": 69,
     "metadata": {},
     "output_type": "execute_result"
    }
   ],
   "source": [
    "p_reviews_actual = len(reviews_df[reviews_df.sentiment == 1])\n",
    "p_reviews_actual"
   ]
  },
  {
   "cell_type": "code",
   "execution_count": 71,
   "metadata": {},
   "outputs": [
    {
     "data": {
      "text/plain": [
       "826"
      ]
     },
     "execution_count": 71,
     "metadata": {},
     "output_type": "execute_result"
    }
   ],
   "source": [
    "n_reviews_predicted  = len(reviews_df[reviews_df.Predicted_Sentiment == 0])\n",
    "n_reviews_predicted"
   ]
  },
  {
   "cell_type": "code",
   "execution_count": 72,
   "metadata": {},
   "outputs": [
    {
     "data": {
      "text/plain": [
       "174"
      ]
     },
     "execution_count": 72,
     "metadata": {},
     "output_type": "execute_result"
    }
   ],
   "source": [
    "p_reviews_predicted  = len(reviews_df[reviews_df.Predicted_Sentiment == 1])\n",
    "p_reviews_predicted"
   ]
  },
  {
   "cell_type": "code",
   "execution_count": 76,
   "metadata": {},
   "outputs": [
    {
     "data": {
      "text/plain": [
       "<matplotlib.figure.Figure at 0x28a960191d0>"
      ]
     },
     "metadata": {},
     "output_type": "display_data"
    },
    {
     "data": {
      "image/png": "[encoded data removed]",
      "text/plain": [
       "<matplotlib.figure.Figure at 0x28a96019278>"
      ]
     },
     "metadata": {},
     "output_type": "display_data"
    }
   ],
   "source": [
    "ind = np.arange(2)  # the x locations for the groups\n",
    "width = 0.35       # the width of the bars\n",
    "actual  = (n_reviews_actual, p_reviews_actual)\n",
    "plt.figure(figsize = (12, 8))\n",
    "fig, ax = plt.subplots(figsize = (12, 8))\n",
    "rects1 = ax.bar(ind, actual, width, color='#FF5252')\n",
    "\n",
    "predicted = (n_reviews_predicted, p_reviews_predicted)\n",
    "rects2 = ax.bar(ind + width, predicted, width, color='#303F9F', linewidth=6)\n",
    "ax.set_ylabel('Frequency')\n",
    "ax.set_title('')\n",
    "ax.set_xticks(ind + width / 2)\n",
    "ax.set_xticklabels(('Negative', 'Positive'))\n",
    "ax.set_xlabel('Sentiment')\n",
    "\n",
    "ax.legend((rects1[0], rects2[0]), ('Actual', 'Predicted'))\n",
    "\n",
    "\n",
    "def autolabel(rects):\n",
    "    \"\"\"\n",
    "    Attach a text label above each bar displaying its height\n",
    "    \"\"\"\n",
    "    for rect in rects:\n",
    "        height = rect.get_height()\n",
    "        ax.text(rect.get_x() + rect.get_width()/2., 1.0*height,\n",
    "                '%d' % int(height),\n",
    "                ha='center', va='bottom')\n",
    "\n",
    "autolabel(rects1)\n",
    "autolabel(rects2)\n",
    "plt.savefig('./Output/Working_Feed_Forward_bar_graph.png')\n",
    "plt.show()"
   ]
  },
  {
   "cell_type": "code",
   "execution_count": 79,
   "metadata": {},
   "outputs": [
    {
     "name": "stdout",
     "output_type": "stream",
     "text": [
      "[[424  74]\n",
      " [402 100]]\n"
     ]
    },
    {
     "data": {
      "image/png": "[encoded data removed]",
      "text/plain": [
       "<matplotlib.figure.Figure at 0x28a95352278>"
      ]
     },
     "metadata": {},
     "output_type": "display_data"
    }
   ],
   "source": [
    "y_actual = list(reviews_df.sentiment.astype('int64').values)\n",
    "y_pred = list(reviews_df.Predicted_Sentiment.astype('int64').values)\n",
    "def plot_confusion_matrix(cm, classes,\n",
    "                          normalize=False,\n",
    "                          title='Confusion matrix',\n",
    "                          cmap=plt.cm.Blues):\n",
    "    plt.imshow(cm, interpolation='nearest', cmap=cmap)\n",
    "    plt.title(title)\n",
    "    plt.colorbar()\n",
    "    tick_marks = np.arange(len(classes))\n",
    "    plt.xticks(tick_marks, classes, rotation=45)\n",
    "    plt.yticks(tick_marks, classes)\n",
    "    print(cm)\n",
    "    thresh = cm.max() / 2.\n",
    "    for i, j in itertools.product(range(cm.shape[0]), range(cm.shape[1])):\n",
    "        plt.text(j, i, cm[i, j],\n",
    "                 horizontalalignment=\"center\",\n",
    "                 color=\"white\" if cm[i, j] > thresh else \"black\")\n",
    "    plt.tight_layout()\n",
    "    plt.ylabel('True label')\n",
    "    plt.xlabel('Predicted label')\n",
    "\n",
    "# Compute confusion matrix\n",
    "cnf_matrix = confusion_matrix(y_actual, y_pred)\n",
    "np.set_printoptions(precision=2)\n",
    "\n",
    "# Plot non-normalized confusion matrix\n",
    "plt.figure(figsize=(12, 8))\n",
    "plot_confusion_matrix(cnf_matrix, classes=[0,1],\n",
    "                      title='Confusion matrix, without normalization')\n",
    "plt.savefig('./Output/Feed_Forward_Confusion_matrix.png')\n",
    "plt.show()"
   ]
  },
  {
   "cell_type": "code",
   "execution_count": null,
   "metadata": {
    "collapsed": true
   },
   "outputs": [],
   "source": []
  }
 ],
 "metadata": {
  "kernelspec": {
   "display_name": "Python 3",
   "language": "python",
   "name": "python3"
  },
  "language_info": {
   "codemirror_mode": {
    "name": "ipython",
    "version": 3
   },
   "file_extension": ".py",
   "mimetype": "text/x-python",
   "name": "python",
   "nbconvert_exporter": "python",
   "pygments_lexer": "ipython3",
   "version": "3.6.3"
  }
 },
 "nbformat": 4,
 "nbformat_minor": 2
}
